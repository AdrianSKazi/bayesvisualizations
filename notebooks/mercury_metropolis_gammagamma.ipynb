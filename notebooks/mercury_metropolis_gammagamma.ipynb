{
 "cells": [
  {
   "cell_type": "code",
   "execution_count": 1,
   "id": "4cf26bdf-9ad3-4734-9351-02808686eaa3",
   "metadata": {
    "editable": true,
    "slideshow": {
     "slide_type": ""
    },
    "tags": []
   },
   "outputs": [],
   "source": [
    "import numpy as np\n",
    "import matplotlib.pyplot as plt\n",
    "from matplotlib.animation import FuncAnimation\n",
    "from scipy.stats import norm, gamma\n",
    "from scipy.stats._distn_infrastructure import rv_frozen\n",
    "import matplotlib\n",
    "from tqdm import tqdm\n",
    "import mercury as mr\n",
    "from IPython.display import HTML\n",
    "from ipywidgets import widgets\n",
    "\n",
    "from RWMetropolis import Target, UpdateDist"
   ]
  },
  {
   "cell_type": "code",
   "execution_count": 2,
   "id": "1cae29fc-db7f-445e-886e-014c74ffe1ca",
   "metadata": {
    "editable": true,
    "slideshow": {
     "slide_type": ""
    },
    "tags": []
   },
   "outputs": [
    {
     "data": {
      "application/mercury+json": "{\n    \"widget\": \"Note\",\n    \"value\": \"Gamma prior parameters\",\n    \"model_id\": \"Note.0.40.16.1-rand303ca8d5\",\n    \"code_uid\": \"Note.0.40.16.1-rand303ca8d5\"\n}",
      "text/markdown": [
       "Gamma prior parameters"
      ],
      "text/plain": [
       "mercury.Note"
      ]
     },
     "metadata": {},
     "output_type": "display_data"
    },
    {
     "data": {
      "application/mercury+json": "{\n    \"widget\": \"Numeric\",\n    \"value\": 1.0,\n    \"min\": 0.1,\n    \"max\": 10.0,\n    \"step\": 0.1,\n    \"label\": \"\\u03b1\",\n    \"model_id\": \"558e43135b264b5485abfddca87044f7\",\n    \"code_uid\": \"Numeric.0.40.26.2-randf649f572\",\n    \"url_key\": \"\",\n    \"disabled\": false,\n    \"hidden\": false\n}",
      "application/vnd.jupyter.widget-view+json": {
       "model_id": "558e43135b264b5485abfddca87044f7",
       "version_major": 2,
       "version_minor": 0
      },
      "text/plain": [
       "mercury.Numeric"
      ]
     },
     "metadata": {},
     "output_type": "display_data"
    },
    {
     "data": {
      "application/mercury+json": "{\n    \"widget\": \"Numeric\",\n    \"value\": 1.0,\n    \"min\": 0.1,\n    \"max\": 10.0,\n    \"step\": 0.1,\n    \"label\": \"\\u03b2\",\n    \"model_id\": \"6a9c0adea25843b69621bdc4a661be55\",\n    \"code_uid\": \"Numeric.0.40.26.3-randd637fd4e\",\n    \"url_key\": \"\",\n    \"disabled\": false,\n    \"hidden\": false\n}",
      "application/vnd.jupyter.widget-view+json": {
       "model_id": "6a9c0adea25843b69621bdc4a661be55",
       "version_major": 2,
       "version_minor": 0
      },
      "text/plain": [
       "mercury.Numeric"
      ]
     },
     "metadata": {},
     "output_type": "display_data"
    },
    {
     "data": {
      "application/mercury+json": "{\n    \"widget\": \"Note\",\n    \"value\": \"Gamma likelihood shape\",\n    \"model_id\": \"Note.0.40.16.4-randbfba5dce\",\n    \"code_uid\": \"Note.0.40.16.4-randbfba5dce\"\n}",
      "text/markdown": [
       "Gamma likelihood shape"
      ],
      "text/plain": [
       "mercury.Note"
      ]
     },
     "metadata": {},
     "output_type": "display_data"
    },
    {
     "data": {
      "application/mercury+json": "{\n    \"widget\": \"Numeric\",\n    \"value\": 1.0,\n    \"min\": 0.1,\n    \"max\": 10.0,\n    \"step\": 0.1,\n    \"label\": \"v\",\n    \"model_id\": \"70729db8bb0d480c806f9dcbdef1d036\",\n    \"code_uid\": \"Numeric.0.40.26.5-rand6527dfc2\",\n    \"url_key\": \"\",\n    \"disabled\": false,\n    \"hidden\": false\n}",
      "application/vnd.jupyter.widget-view+json": {
       "model_id": "70729db8bb0d480c806f9dcbdef1d036",
       "version_major": 2,
       "version_minor": 0
      },
      "text/plain": [
       "mercury.Numeric"
      ]
     },
     "metadata": {},
     "output_type": "display_data"
    },
    {
     "data": {
      "application/mercury+json": "{\n    \"widget\": \"Note\",\n    \"value\": \"Algorithm options\",\n    \"model_id\": \"Note.0.40.16.8-rand9f946818\",\n    \"code_uid\": \"Note.0.40.16.8-rand9f946818\"\n}",
      "text/markdown": [
       "Algorithm options"
      ],
      "text/plain": [
       "mercury.Note"
      ]
     },
     "metadata": {},
     "output_type": "display_data"
    },
    {
     "data": {
      "application/mercury+json": "{\n    \"widget\": \"Numeric\",\n    \"value\": 1.0,\n    \"min\": 0.0,\n    \"max\": 1073741824.0,\n    \"step\": 1.0,\n    \"label\": \"Random seed\",\n    \"model_id\": \"9eb715884ead4a08b6f84afaffb9af8f\",\n    \"code_uid\": \"Numeric.0.40.26.9-randbcf553cd\",\n    \"url_key\": \"\",\n    \"disabled\": false,\n    \"hidden\": false\n}",
      "application/vnd.jupyter.widget-view+json": {
       "model_id": "9eb715884ead4a08b6f84afaffb9af8f",
       "version_major": 2,
       "version_minor": 0
      },
      "text/plain": [
       "mercury.Numeric"
      ]
     },
     "metadata": {},
     "output_type": "display_data"
    },
    {
     "data": {
      "application/mercury+json": "{\n    \"widget\": \"Numeric\",\n    \"value\": 1.0,\n    \"min\": 0.1,\n    \"max\": 5.0,\n    \"step\": 0.1,\n    \"label\": \"x_0\",\n    \"model_id\": \"9fcae0299f7e4035a799c3eaf4053ec8\",\n    \"code_uid\": \"Numeric.0.40.26.10-randa6f90a2f\",\n    \"url_key\": \"\",\n    \"disabled\": false,\n    \"hidden\": false\n}",
      "application/vnd.jupyter.widget-view+json": {
       "model_id": "9fcae0299f7e4035a799c3eaf4053ec8",
       "version_major": 2,
       "version_minor": 0
      },
      "text/plain": [
       "mercury.Numeric"
      ]
     },
     "metadata": {},
     "output_type": "display_data"
    },
    {
     "data": {
      "application/mercury+json": "{\n    \"widget\": \"Slider\",\n    \"value\": 100,\n    \"min\": 1,\n    \"max\": 1000,\n    \"step\": 1,\n    \"label\": \"samples\",\n    \"model_id\": \"d87390ae26a84f99ba84500205a7fa19\",\n    \"code_uid\": \"Slider.0.40.26.11-rand383a9ff1\",\n    \"url_key\": \"\",\n    \"disabled\": false,\n    \"hidden\": false\n}",
      "application/vnd.jupyter.widget-view+json": {
       "model_id": "d87390ae26a84f99ba84500205a7fa19",
       "version_major": 2,
       "version_minor": 0
      },
      "text/plain": [
       "mercury.Slider"
      ]
     },
     "metadata": {},
     "output_type": "display_data"
    },
    {
     "data": {
      "application/mercury+json": "{\n    \"widget\": \"Numeric\",\n    \"value\": 0.4,\n    \"min\": 0.1,\n    \"max\": 2.0,\n    \"step\": 0.1,\n    \"label\": \"Proposal standard deviation\",\n    \"model_id\": \"e76b6d5c50c74c74aeaf9d04181774de\",\n    \"code_uid\": \"Numeric.0.40.26.12-randd73ae451\",\n    \"url_key\": \"\",\n    \"disabled\": false,\n    \"hidden\": false\n}",
      "application/vnd.jupyter.widget-view+json": {
       "model_id": "e76b6d5c50c74c74aeaf9d04181774de",
       "version_major": 2,
       "version_minor": 0
      },
      "text/plain": [
       "mercury.Numeric"
      ]
     },
     "metadata": {},
     "output_type": "display_data"
    },
    {
     "data": {
      "application/mercury+json": "{\n    \"widget\": \"Note\",\n    \"value\": \"Plot options\",\n    \"model_id\": \"Note.0.40.16.15-rand8a55267f\",\n    \"code_uid\": \"Note.0.40.16.15-rand8a55267f\"\n}",
      "text/markdown": [
       "Plot options"
      ],
      "text/plain": [
       "mercury.Note"
      ]
     },
     "metadata": {},
     "output_type": "display_data"
    },
    {
     "data": {
      "application/mercury+json": "{\n    \"widget\": \"Slider\",\n    \"value\": 35,\n    \"min\": 5,\n    \"max\": 60,\n    \"step\": 1,\n    \"label\": \"Histogram bins\",\n    \"model_id\": \"347a227419aa440dbca48877650c83f9\",\n    \"code_uid\": \"Slider.0.40.26.16-randcf1d53d3\",\n    \"url_key\": \"\",\n    \"disabled\": false,\n    \"hidden\": false\n}",
      "application/vnd.jupyter.widget-view+json": {
       "model_id": "347a227419aa440dbca48877650c83f9",
       "version_major": 2,
       "version_minor": 0
      },
      "text/plain": [
       "mercury.Slider"
      ]
     },
     "metadata": {},
     "output_type": "display_data"
    }
   ],
   "source": [
    "_ = mr.Note(text=\"Gamma prior parameters\")\n",
    "alpha = mr.Numeric(value=1, min=0.1, max=10, label=\"α\", step=0.1)\n",
    "beta = mr.Numeric(value=1, min=0.1, max=10, label=\"β\", step=0.1)\n",
    "_ = mr.Note(text=\"Gamma likelihood shape\")\n",
    "v = mr.Numeric(value=1, min=0.1, max=10, label=\"v\", step=0.1)\n",
    "x = [1]\n",
    "n = len(x)\n",
    "_ = mr.Note(text=\"Algorithm options\")\n",
    "seed = mr.Numeric(value=1, min=0, max=2 ** 30, label=\"Random seed\")\n",
    "x_0 = mr.Numeric(value=1, min=0.1, max=5, label=\"x_0\", step=0.1)\n",
    "samples = mr.Slider(value=100, min=1, max=1000, label=\"samples\", step=1)\n",
    "proposal_sigma = mr.Numeric(\n",
    "    value=0.4, min=0.1, max=2, label=\"Proposal standard deviation\", step=0.1\n",
    ")\n",
    "_ = mr.Note(text=\"Plot options\")\n",
    "bins = mr.Slider(value=35, min=5, max=60, label=\"Histogram bins\", step=1)"
   ]
  },
  {
   "cell_type": "code",
   "execution_count": 3,
   "id": "2526c5ce-c4c4-4acd-a0f1-053e2a5c0ee0",
   "metadata": {
    "editable": true,
    "slideshow": {
     "slide_type": ""
    },
    "tags": []
   },
   "outputs": [
    {
     "data": {
      "text/markdown": [
       "See [this page](https://areding.github.io/6420-pymc/unit5/Unit5-Metropolis.html) for the algorithm description.\n",
       "\n",
       "Let our model be a Gamma-Gamma conjugate model, where:\n",
       "\n",
       "$$\n",
       "\\begin{align*}\n",
       "X_i | \\beta &\\sim \\text{Ga}(v, \\theta) \\\\\n",
       "\\theta &\\sim \\text{Ga}(\\alpha, \\beta)\n",
       "\\end{align*}\n",
       "$$\n",
       "\n",
       "We'll just have a single datapoint, $x=1$, for simplicity.\n",
       "\n",
       "For our target $\\pi(x)$, we have:\n",
       "\n",
       "$$\\pi(\\theta|x) \\propto \\theta^{vn + \\alpha - 1} e^{-\\theta(\\beta + \\sum_{i=1}^{n}X_i)}$$\n",
       "\n",
       "Our true posterior by conjugacy is:\n",
       "\n",
       "$$Ga(\\alpha + nv, \\beta + \\sum_{i=1}^{n}X_i)$$\n",
       "\n",
       "We'll use a $N(0, \\sigma^2)$ proposal.\n"
      ],
      "text/plain": [
       "<IPython.core.display.Markdown object>"
      ]
     },
     "metadata": {},
     "output_type": "display_data"
    }
   ],
   "source": [
    "mr.Markdown(\n",
    "    text=\"\"\"See [this page](https://areding.github.io/6420-pymc/unit5/Unit5-Metropolis.html) for the algorithm description.\n",
    "\n",
    "Let our model be a Gamma-Gamma conjugate model, where:\n",
    "\n",
    "$$\n",
    "\\\\begin{align*}\n",
    "X_i | \\\\beta &\\\\sim \\\\text{Ga}(v, \\\\theta) \\\\\\\\\n",
    "\\\\theta &\\\\sim \\\\text{Ga}(\\\\alpha, \\\\beta)\n",
    "\\\\end{align*}\n",
    "$$\n",
    "\n",
    "We'll just have a single datapoint, $x=1$, for simplicity.\n",
    "\n",
    "For our target $\\\\pi(x)$, we have:\n",
    "\n",
    "$$\\pi(\\\\theta|x) \\\\propto \\\\theta^{vn + \\\\alpha - 1} e^{-\\\\theta(\\\\beta + \\\\sum_{i=1}^{n}X_i)}$$\n",
    "\n",
    "Our true posterior by conjugacy is:\n",
    "\n",
    "$$Ga(\\\\alpha + nv, \\\\beta + \\\\sum_{i=1}^{n}X_i)$$\n",
    "\n",
    "We'll use a $N(0, \\\\sigma^2)$ proposal.\n",
    "\"\"\"\n",
    ")"
   ]
  },
  {
   "cell_type": "code",
   "execution_count": 5,
   "id": "a2864a0f-e902-44a4-915c-8f3989de9a99",
   "metadata": {
    "editable": true,
    "slideshow": {
     "slide_type": ""
    },
    "tags": []
   },
   "outputs": [
    {
     "name": "stderr",
     "output_type": "stream",
     "text": [
      "/Users/aaron/mambaforge/envs/mercury/lib/python3.10/site-packages/numpy/lib/histograms.py:885: RuntimeWarning: divide by zero encountered in divide\n",
      "  return n/db/n.sum(), bin_edges\n",
      "/Users/aaron/mambaforge/envs/mercury/lib/python3.10/site-packages/numpy/lib/histograms.py:885: RuntimeWarning: invalid value encountered in divide\n",
      "  return n/db/n.sum(), bin_edges\n"
     ]
    },
    {
     "data": {
      "application/vnd.jupyter.widget-view+json": {
       "model_id": "b4f9993731a04151a51441712ae5c80f",
       "version_major": 2,
       "version_minor": 0
      },
      "text/plain": [
       "HTML(value='\\n<link rel=\"stylesheet\"\\nhref=\"https://maxcdn.bootstrapcdn.com/font-awesome/4.4.0/css/font-awesom…"
      ]
     },
     "execution_count": 5,
     "metadata": {},
     "output_type": "execute_result"
    }
   ],
   "source": [
    "true_posterior = gamma(a=alpha.value + n * v.value, scale=1.0 / (beta.value + sum(x)))\n",
    "target = Target(v.value, alpha.value, beta.value, data=x)\n",
    "\n",
    "threshold = 0.999\n",
    "upper_bound = round(true_posterior.ppf(threshold))\n",
    "\n",
    "fig, ax = plt.subplots()\n",
    "\n",
    "ud = UpdateDist(\n",
    "    ax,\n",
    "    x_0.value,\n",
    "    target,\n",
    "    true_posterior,\n",
    "    proposal_sigma=proposal_sigma.value,\n",
    "    lower_bound=0.0,\n",
    "    upper_bound=upper_bound,\n",
    "    bins=bins.value,\n",
    "    sample_count=samples.value,\n",
    "    seed=int(seed.value),\n",
    ")\n",
    "plt.close(fig)\n",
    "\n",
    "matplotlib.rcParams[\"animation.embed_limit\"] = 500\n",
    "anim = FuncAnimation(fig, ud, frames=samples.value, interval=100, blit=True)\n",
    "widgets.HTML(value=anim.to_jshtml())\n",
    "#HTML(anim.to_jshtml())"
   ]
  },
  {
   "cell_type": "code",
   "execution_count": null,
   "id": "01ca6ec5-49df-49da-9f59-5b11ea2e2bff",
   "metadata": {
    "editable": true,
    "slideshow": {
     "slide_type": ""
    },
    "tags": []
   },
   "outputs": [],
   "source": []
  }
 ],
 "metadata": {
  "kernelspec": {
   "display_name": "Python 3 (ipykernel)",
   "language": "python",
   "name": "python3"
  },
  "language_info": {
   "codemirror_mode": {
    "name": "ipython",
    "version": 3
   },
   "file_extension": ".py",
   "mimetype": "text/x-python",
   "name": "python",
   "nbconvert_exporter": "python",
   "pygments_lexer": "ipython3",
   "version": "3.10.12"
  }
 },
 "nbformat": 4,
 "nbformat_minor": 5
}
